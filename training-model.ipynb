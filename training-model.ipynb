{
 "cells": [
  {
   "cell_type": "code",
   "execution_count": 1,
   "metadata": {},
   "outputs": [],
   "source": [
    "import tensorflow as tf\n",
    "import matplotlib.pyplot as plt\n",
    "from tensorflow.keras.preprocessing.image import ImageDataGenerator\n",
    "from tensorflow.keras.models import load_model\n",
    "from tensorflow.keras.models import Sequential\n",
    "from tensorflow.keras.preprocessing.image import ImageDataGenerator\n",
    "from tensorflow.keras.preprocessing.image import load_img , img_to_array\n",
    "from tensorflow.keras.layers import Dense , Dropout , Conv2D , MaxPooling2D, Flatten , BatchNormalization"
   ]
  },
  {
   "cell_type": "code",
   "execution_count": 2,
   "metadata": {},
   "outputs": [
    {
     "name": "stdout",
     "output_type": "stream",
     "text": [
      "Downloading data from https://www.cs.toronto.edu/~kriz/cifar-10-python.tar.gz\n",
      "170500096/170498071 [==============================] - 23s 0us/step\n"
     ]
    }
   ],
   "source": [
    "# load the Cifar-10 data set\n",
    "(x_train , y_train) , (x_test , y_test) = tf.keras.datasets.cifar10.load_data()"
   ]
  },
  {
   "cell_type": "code",
   "execution_count": 3,
   "metadata": {},
   "outputs": [
    {
     "name": "stdout",
     "output_type": "stream",
     "text": [
      "x_train shape (50000, 32, 32, 3)\n",
      "y_train shape (50000, 1)\n"
     ]
    }
   ],
   "source": [
    "# check the data set\n",
    "print('x_train shape' , x_train.shape)\n",
    "print('y_train shape' , y_train.shape)"
   ]
  },
  {
   "cell_type": "code",
   "execution_count": 4,
   "metadata": {},
   "outputs": [],
   "source": [
    "#Data Normalization and Augmentation\n",
    "def normalize(x):\n",
    "    x = x.astype('float32')\n",
    "    x = x/255.0\n",
    "    return x\n",
    "\n",
    "datagen = ImageDataGenerator(\n",
    "                            rotation_range=15,\n",
    "                            width_shift_range=0.1,\n",
    "                            height_shift_range=0.1,\n",
    "                            horizontal_flip=True\n",
    "                            )"
   ]
  },
  {
   "cell_type": "code",
   "execution_count": 6,
   "metadata": {},
   "outputs": [],
   "source": [
    "# training and test split\n",
    "from sklearn.model_selection import train_test_split\n",
    "x_test, x_val, y_test, y_val = train_test_split(x_test, y_test, test_size = 0.3, random_state = 0)"
   ]
  },
  {
   "cell_type": "code",
   "execution_count": 7,
   "metadata": {},
   "outputs": [],
   "source": [
    "x_train = normalize(x_train)\n",
    "x_test = normalize(x_test)\n",
    "x_val = normalize(x_val)\n",
    "\n",
    "y_train = tf.keras.utils.to_categorical(y_train , 10)\n",
    "y_test = tf.keras.utils.to_categorical(y_test , 10)\n",
    "y_val  = tf.keras.utils.to_categorical(y_val , 10)\n",
    "\n",
    "datagen.fit(x_train)"
   ]
  },
  {
   "cell_type": "markdown",
   "metadata": {},
   "source": [
    "##### Define Accuracy and loss graph and model fit function"
   ]
  },
  {
   "cell_type": "code",
   "execution_count": 8,
   "metadata": {},
   "outputs": [],
   "source": [
    "def results(model):\n",
    "  epoch = 100\n",
    "  r = model.fit(datagen.flow(x_train , y_train , batch_size = 32), epochs = epoch  ,steps_per_epoch=len(x_train)/32, validation_data = (x_val , y_val) , verbose = 1)\n",
    "  acc = model.evaluate(x_test , y_test)\n",
    "  print(\"test set loss : \" , acc[0])\n",
    "  print(\"test set accuracy :\", acc[1]*100)\n",
    "\n",
    "  epoch_range = range(1, epoch+1)\n",
    "  plt.plot(epoch_range, r.history['accuracy'])\n",
    "  plt.plot(epoch_range, r.history['val_accuracy'])\n",
    "  plt.title('Classification Accuracy')\n",
    "  plt.ylabel('Accuracy')\n",
    "  plt.xlabel('Epoch')\n",
    "  plt.legend(['Train', 'Val'], loc='lower right')\n",
    "  plt.show()\n",
    "\n",
    "  # Plot training & validation loss values\n",
    "  plt.plot(epoch_range,r.history['loss'])\n",
    "  plt.plot(epoch_range, r.history['val_loss'])\n",
    "  plt.title('Model loss')\n",
    "  plt.ylabel('Loss')\n",
    "  plt.xlabel('Epoch')\n",
    "  plt.legend(['Train', 'Val'], loc='lower right')\n",
    "  plt.show()"
   ]
  },
  {
   "cell_type": "code",
   "execution_count": 9,
   "metadata": {},
   "outputs": [
    {
     "name": "stderr",
     "output_type": "stream",
     "text": [
      "c:\\Users\\cohenniv\\AppData\\Local\\Programs\\Python\\Python39\\lib\\site-packages\\tensorflow\\python\\keras\\optimizer_v2\\optimizer_v2.py:374: UserWarning: The `lr` argument is deprecated, use `learning_rate` instead.\n",
      "  warnings.warn(\n"
     ]
    },
    {
     "name": "stdout",
     "output_type": "stream",
     "text": [
      "Epoch 1/100\n",
      "1562/1562 [==============================] - 47s 18ms/step - loss: 1.7082 - accuracy: 0.3915 - val_loss: 1.4599 - val_accuracy: 0.4873\n",
      "Epoch 2/100\n",
      "1562/1562 [==============================] - 21s 13ms/step - loss: 1.3948 - accuracy: 0.5058 - val_loss: 1.4511 - val_accuracy: 0.5100\n",
      "Epoch 3/100\n",
      "1562/1562 [==============================] - 21s 13ms/step - loss: 1.2464 - accuracy: 0.5626 - val_loss: 1.0790 - val_accuracy: 0.6227\n",
      "Epoch 4/100\n",
      "1562/1562 [==============================] - 23s 15ms/step - loss: 1.1498 - accuracy: 0.6006 - val_loss: 1.0682 - val_accuracy: 0.6340\n",
      "Epoch 5/100\n",
      "1562/1562 [==============================] - 22s 14ms/step - loss: 1.0644 - accuracy: 0.6310 - val_loss: 0.9218 - val_accuracy: 0.6800\n",
      "Epoch 6/100\n",
      "1562/1562 [==============================] - 21s 14ms/step - loss: 1.0068 - accuracy: 0.6539 - val_loss: 0.9565 - val_accuracy: 0.6693\n",
      "Epoch 7/100\n",
      "1562/1562 [==============================] - 21s 13ms/step - loss: 0.9556 - accuracy: 0.6739 - val_loss: 0.8961 - val_accuracy: 0.6927\n",
      "Epoch 8/100\n",
      "1562/1562 [==============================] - 20s 13ms/step - loss: 0.9171 - accuracy: 0.6890 - val_loss: 0.9153 - val_accuracy: 0.6987\n",
      "Epoch 9/100\n",
      "1562/1562 [==============================] - 20s 13ms/step - loss: 0.8847 - accuracy: 0.7000 - val_loss: 0.8426 - val_accuracy: 0.7093\n",
      "Epoch 10/100\n",
      "1562/1562 [==============================] - 20s 13ms/step - loss: 0.8605 - accuracy: 0.7094 - val_loss: 1.0837 - val_accuracy: 0.6473\n",
      "Epoch 11/100\n",
      "1562/1562 [==============================] - 20s 13ms/step - loss: 0.8363 - accuracy: 0.7185 - val_loss: 0.8909 - val_accuracy: 0.7073\n",
      "Epoch 12/100\n",
      "1562/1562 [==============================] - 20s 13ms/step - loss: 0.8137 - accuracy: 0.7279 - val_loss: 0.7354 - val_accuracy: 0.7520\n",
      "Epoch 13/100\n",
      "1562/1562 [==============================] - 20s 13ms/step - loss: 0.7911 - accuracy: 0.7356 - val_loss: 0.7735 - val_accuracy: 0.7433\n",
      "Epoch 14/100\n",
      "1562/1562 [==============================] - 20s 13ms/step - loss: 0.7735 - accuracy: 0.7421 - val_loss: 0.8703 - val_accuracy: 0.7187\n",
      "Epoch 15/100\n",
      "1562/1562 [==============================] - 20s 13ms/step - loss: 0.7579 - accuracy: 0.7478 - val_loss: 0.6958 - val_accuracy: 0.7747\n",
      "Epoch 16/100\n",
      "1562/1562 [==============================] - 21s 13ms/step - loss: 0.7358 - accuracy: 0.7554 - val_loss: 0.7306 - val_accuracy: 0.7600\n",
      "Epoch 17/100\n",
      "1562/1562 [==============================] - 23s 15ms/step - loss: 0.7276 - accuracy: 0.7598 - val_loss: 0.7256 - val_accuracy: 0.7720\n",
      "Epoch 18/100\n",
      "1562/1562 [==============================] - 21s 13ms/step - loss: 0.7162 - accuracy: 0.7617 - val_loss: 0.6576 - val_accuracy: 0.7907\n",
      "Epoch 19/100\n",
      "1562/1562 [==============================] - 20s 13ms/step - loss: 0.7011 - accuracy: 0.7669 - val_loss: 0.6020 - val_accuracy: 0.8000\n",
      "Epoch 20/100\n",
      "1562/1562 [==============================] - 20s 13ms/step - loss: 0.6861 - accuracy: 0.7710 - val_loss: 0.6385 - val_accuracy: 0.7847\n",
      "Epoch 21/100\n",
      "1562/1562 [==============================] - 21s 13ms/step - loss: 0.6772 - accuracy: 0.7762 - val_loss: 0.6651 - val_accuracy: 0.7827\n",
      "Epoch 22/100\n",
      "1562/1562 [==============================] - 22s 14ms/step - loss: 0.6647 - accuracy: 0.7824 - val_loss: 0.6364 - val_accuracy: 0.7967\n",
      "Epoch 23/100\n",
      "1562/1562 [==============================] - 21s 13ms/step - loss: 0.6560 - accuracy: 0.7856 - val_loss: 0.6087 - val_accuracy: 0.8053\n",
      "Epoch 24/100\n",
      "1562/1562 [==============================] - 21s 14ms/step - loss: 0.6463 - accuracy: 0.7866 - val_loss: 0.6202 - val_accuracy: 0.8093\n",
      "Epoch 25/100\n",
      "1562/1562 [==============================] - 20s 13ms/step - loss: 0.6369 - accuracy: 0.7927 - val_loss: 0.7532 - val_accuracy: 0.7680\n",
      "Epoch 26/100\n",
      "1562/1562 [==============================] - 20s 13ms/step - loss: 0.6274 - accuracy: 0.7942 - val_loss: 0.6074 - val_accuracy: 0.8173\n",
      "Epoch 27/100\n",
      "1562/1562 [==============================] - 21s 13ms/step - loss: 0.6221 - accuracy: 0.7978 - val_loss: 0.6565 - val_accuracy: 0.7927\n",
      "Epoch 28/100\n",
      "1562/1562 [==============================] - 21s 14ms/step - loss: 0.6131 - accuracy: 0.8008 - val_loss: 0.6111 - val_accuracy: 0.8073\n",
      "Epoch 29/100\n",
      "1562/1562 [==============================] - 22s 14ms/step - loss: 0.6043 - accuracy: 0.8039 - val_loss: 0.5492 - val_accuracy: 0.8267\n",
      "Epoch 30/100\n",
      "1562/1562 [==============================] - 20s 13ms/step - loss: 0.5999 - accuracy: 0.8058 - val_loss: 0.5844 - val_accuracy: 0.8120\n",
      "Epoch 31/100\n",
      "1562/1562 [==============================] - 21s 13ms/step - loss: 0.5940 - accuracy: 0.8084 - val_loss: 0.5977 - val_accuracy: 0.8100\n",
      "Epoch 32/100\n",
      "1562/1562 [==============================] - 20s 13ms/step - loss: 0.5828 - accuracy: 0.8124 - val_loss: 0.6113 - val_accuracy: 0.8060\n",
      "Epoch 33/100\n",
      "1562/1562 [==============================] - 29s 19ms/step - loss: 0.5782 - accuracy: 0.8116 - val_loss: 0.5142 - val_accuracy: 0.8393\n",
      "Epoch 34/100\n",
      "1562/1562 [==============================] - 30s 19ms/step - loss: 0.5680 - accuracy: 0.8169 - val_loss: 0.6113 - val_accuracy: 0.8080\n",
      "Epoch 35/100\n",
      "1562/1562 [==============================] - 30s 19ms/step - loss: 0.5676 - accuracy: 0.8164 - val_loss: 0.5305 - val_accuracy: 0.8387\n",
      "Epoch 36/100\n",
      "1562/1562 [==============================] - 30s 19ms/step - loss: 0.5662 - accuracy: 0.8178 - val_loss: 0.5804 - val_accuracy: 0.8227\n",
      "Epoch 37/100\n",
      "1562/1562 [==============================] - 29s 19ms/step - loss: 0.5579 - accuracy: 0.8190 - val_loss: 0.5428 - val_accuracy: 0.8373\n",
      "Epoch 38/100\n",
      "1562/1562 [==============================] - 29s 19ms/step - loss: 0.5519 - accuracy: 0.8223 - val_loss: 0.5477 - val_accuracy: 0.8307\n",
      "Epoch 39/100\n",
      "1562/1562 [==============================] - 20s 13ms/step - loss: 0.5439 - accuracy: 0.8257 - val_loss: 0.5280 - val_accuracy: 0.8347\n",
      "Epoch 40/100\n",
      "1562/1562 [==============================] - 20s 13ms/step - loss: 0.5430 - accuracy: 0.8243 - val_loss: 0.5266 - val_accuracy: 0.8380\n",
      "Epoch 41/100\n",
      "1562/1562 [==============================] - 20s 13ms/step - loss: 0.5352 - accuracy: 0.8283 - val_loss: 0.5266 - val_accuracy: 0.8393\n",
      "Epoch 42/100\n",
      "1562/1562 [==============================] - 20s 13ms/step - loss: 0.5333 - accuracy: 0.8276 - val_loss: 0.5383 - val_accuracy: 0.8360\n",
      "Epoch 43/100\n",
      "1562/1562 [==============================] - 20s 13ms/step - loss: 0.5294 - accuracy: 0.8292 - val_loss: 0.5179 - val_accuracy: 0.8447\n",
      "Epoch 44/100\n",
      "1562/1562 [==============================] - 20s 13ms/step - loss: 0.5259 - accuracy: 0.8325 - val_loss: 0.4962 - val_accuracy: 0.8567\n",
      "Epoch 45/100\n",
      "1562/1562 [==============================] - 20s 13ms/step - loss: 0.5173 - accuracy: 0.8356 - val_loss: 0.5047 - val_accuracy: 0.8440\n",
      "Epoch 46/100\n",
      "1562/1562 [==============================] - 20s 13ms/step - loss: 0.5164 - accuracy: 0.8362 - val_loss: 0.5290 - val_accuracy: 0.8433\n",
      "Epoch 47/100\n",
      "1562/1562 [==============================] - 20s 13ms/step - loss: 0.5143 - accuracy: 0.8348 - val_loss: 0.4842 - val_accuracy: 0.8533\n",
      "Epoch 48/100\n",
      "1562/1562 [==============================] - 21s 13ms/step - loss: 0.5170 - accuracy: 0.8345 - val_loss: 0.5172 - val_accuracy: 0.8427\n",
      "Epoch 49/100\n",
      "1562/1562 [==============================] - 21s 13ms/step - loss: 0.5041 - accuracy: 0.8379 - val_loss: 0.4908 - val_accuracy: 0.8540\n",
      "Epoch 50/100\n",
      "1562/1562 [==============================] - 20s 13ms/step - loss: 0.4960 - accuracy: 0.8407 - val_loss: 0.4929 - val_accuracy: 0.8500\n",
      "Epoch 51/100\n",
      "1562/1562 [==============================] - 20s 13ms/step - loss: 0.4956 - accuracy: 0.8436 - val_loss: 0.4906 - val_accuracy: 0.8540\n",
      "Epoch 52/100\n",
      "1562/1562 [==============================] - 20s 13ms/step - loss: 0.4961 - accuracy: 0.8420 - val_loss: 0.5606 - val_accuracy: 0.8307\n",
      "Epoch 53/100\n",
      "1562/1562 [==============================] - 21s 13ms/step - loss: 0.4930 - accuracy: 0.8419 - val_loss: 0.5033 - val_accuracy: 0.8467\n",
      "Epoch 54/100\n",
      "1562/1562 [==============================] - 20s 13ms/step - loss: 0.4886 - accuracy: 0.8456 - val_loss: 0.4445 - val_accuracy: 0.8680\n",
      "Epoch 55/100\n",
      "1562/1562 [==============================] - 20s 13ms/step - loss: 0.4871 - accuracy: 0.8464 - val_loss: 0.4403 - val_accuracy: 0.8700\n",
      "Epoch 56/100\n",
      "1562/1562 [==============================] - 20s 13ms/step - loss: 0.4820 - accuracy: 0.8476 - val_loss: 0.4862 - val_accuracy: 0.8513\n",
      "Epoch 57/100\n",
      "1562/1562 [==============================] - 21s 13ms/step - loss: 0.4771 - accuracy: 0.8484 - val_loss: 0.5030 - val_accuracy: 0.8473\n",
      "Epoch 58/100\n",
      "1562/1562 [==============================] - 20s 13ms/step - loss: 0.4748 - accuracy: 0.8495 - val_loss: 0.4554 - val_accuracy: 0.8660\n",
      "Epoch 59/100\n",
      "1562/1562 [==============================] - 20s 13ms/step - loss: 0.4686 - accuracy: 0.8513 - val_loss: 0.4511 - val_accuracy: 0.8687\n",
      "Epoch 60/100\n",
      "1562/1562 [==============================] - 20s 13ms/step - loss: 0.4755 - accuracy: 0.8496 - val_loss: 0.4502 - val_accuracy: 0.8587\n",
      "Epoch 61/100\n",
      "1562/1562 [==============================] - 20s 13ms/step - loss: 0.4676 - accuracy: 0.8529 - val_loss: 0.4779 - val_accuracy: 0.8567\n",
      "Epoch 62/100\n",
      "1562/1562 [==============================] - 20s 13ms/step - loss: 0.4683 - accuracy: 0.8517 - val_loss: 0.4564 - val_accuracy: 0.8613\n",
      "Epoch 63/100\n",
      "1562/1562 [==============================] - 21s 13ms/step - loss: 0.4574 - accuracy: 0.8554 - val_loss: 0.4632 - val_accuracy: 0.8573\n",
      "Epoch 64/100\n",
      "1562/1562 [==============================] - 20s 13ms/step - loss: 0.4564 - accuracy: 0.8568 - val_loss: 0.4613 - val_accuracy: 0.8633\n",
      "Epoch 65/100\n",
      "1562/1562 [==============================] - 21s 13ms/step - loss: 0.4543 - accuracy: 0.8583 - val_loss: 0.4920 - val_accuracy: 0.8527\n",
      "Epoch 66/100\n",
      "1562/1562 [==============================] - 21s 13ms/step - loss: 0.4568 - accuracy: 0.8567 - val_loss: 0.4757 - val_accuracy: 0.8580\n",
      "Epoch 67/100\n",
      "1562/1562 [==============================] - 20s 13ms/step - loss: 0.4522 - accuracy: 0.8578 - val_loss: 0.4856 - val_accuracy: 0.8573\n",
      "Epoch 68/100\n",
      "1562/1562 [==============================] - 21s 13ms/step - loss: 0.4504 - accuracy: 0.8598 - val_loss: 0.5049 - val_accuracy: 0.8500\n",
      "Epoch 69/100\n",
      "1562/1562 [==============================] - 21s 13ms/step - loss: 0.4456 - accuracy: 0.8617 - val_loss: 0.4372 - val_accuracy: 0.8667\n",
      "Epoch 70/100\n",
      "1562/1562 [==============================] - 21s 13ms/step - loss: 0.4462 - accuracy: 0.8615 - val_loss: 0.4822 - val_accuracy: 0.8560\n",
      "Epoch 71/100\n",
      "1562/1562 [==============================] - 21s 13ms/step - loss: 0.4441 - accuracy: 0.8599 - val_loss: 0.4982 - val_accuracy: 0.8493\n",
      "Epoch 72/100\n",
      "1562/1562 [==============================] - 20s 13ms/step - loss: 0.4405 - accuracy: 0.8629 - val_loss: 0.4925 - val_accuracy: 0.8573\n",
      "Epoch 73/100\n",
      "1562/1562 [==============================] - 21s 13ms/step - loss: 0.4376 - accuracy: 0.8646 - val_loss: 0.4543 - val_accuracy: 0.8687\n",
      "Epoch 74/100\n",
      "1562/1562 [==============================] - 21s 13ms/step - loss: 0.4338 - accuracy: 0.8634 - val_loss: 0.4467 - val_accuracy: 0.8660\n",
      "Epoch 75/100\n",
      "1562/1562 [==============================] - 20s 13ms/step - loss: 0.4352 - accuracy: 0.8644 - val_loss: 0.4242 - val_accuracy: 0.8700\n",
      "Epoch 76/100\n",
      "1562/1562 [==============================] - 20s 13ms/step - loss: 0.4279 - accuracy: 0.8684 - val_loss: 0.4584 - val_accuracy: 0.8693\n",
      "Epoch 77/100\n",
      "1562/1562 [==============================] - 21s 13ms/step - loss: 0.4283 - accuracy: 0.8670 - val_loss: 0.4352 - val_accuracy: 0.8687\n",
      "Epoch 78/100\n",
      "1562/1562 [==============================] - 21s 13ms/step - loss: 0.4389 - accuracy: 0.8631 - val_loss: 0.4828 - val_accuracy: 0.8473\n",
      "Epoch 79/100\n",
      "1562/1562 [==============================] - 21s 13ms/step - loss: 0.4250 - accuracy: 0.8672 - val_loss: 0.4316 - val_accuracy: 0.8667\n",
      "Epoch 80/100\n",
      "1562/1562 [==============================] - 20s 13ms/step - loss: 0.4241 - accuracy: 0.8691 - val_loss: 0.4582 - val_accuracy: 0.8660\n",
      "Epoch 81/100\n",
      "1562/1562 [==============================] - 21s 13ms/step - loss: 0.4247 - accuracy: 0.8689 - val_loss: 0.4570 - val_accuracy: 0.8747\n",
      "Epoch 82/100\n",
      "1562/1562 [==============================] - 20s 13ms/step - loss: 0.4208 - accuracy: 0.8706 - val_loss: 0.4205 - val_accuracy: 0.8813\n",
      "Epoch 83/100\n",
      "1562/1562 [==============================] - 21s 13ms/step - loss: 0.4228 - accuracy: 0.8680 - val_loss: 0.4231 - val_accuracy: 0.8813\n",
      "Epoch 84/100\n",
      "1562/1562 [==============================] - 20s 13ms/step - loss: 0.4192 - accuracy: 0.8695 - val_loss: 0.4510 - val_accuracy: 0.8673\n",
      "Epoch 85/100\n",
      "1562/1562 [==============================] - 20s 13ms/step - loss: 0.4159 - accuracy: 0.8703 - val_loss: 0.4207 - val_accuracy: 0.8727\n",
      "Epoch 86/100\n",
      "1562/1562 [==============================] - 21s 13ms/step - loss: 0.4136 - accuracy: 0.8742 - val_loss: 0.4425 - val_accuracy: 0.8613\n",
      "Epoch 87/100\n",
      "1562/1562 [==============================] - 20s 13ms/step - loss: 0.4147 - accuracy: 0.8713 - val_loss: 0.4781 - val_accuracy: 0.8653\n",
      "Epoch 88/100\n",
      "1562/1562 [==============================] - 20s 13ms/step - loss: 0.4128 - accuracy: 0.8747 - val_loss: 0.4054 - val_accuracy: 0.8800\n",
      "Epoch 89/100\n",
      "1562/1562 [==============================] - 20s 13ms/step - loss: 0.4117 - accuracy: 0.8724 - val_loss: 0.4123 - val_accuracy: 0.8780\n",
      "Epoch 90/100\n",
      "1562/1562 [==============================] - 21s 13ms/step - loss: 0.4073 - accuracy: 0.8742 - val_loss: 0.4486 - val_accuracy: 0.8640\n",
      "Epoch 91/100\n",
      "1562/1562 [==============================] - 20s 13ms/step - loss: 0.4083 - accuracy: 0.8726 - val_loss: 0.4289 - val_accuracy: 0.8680\n",
      "Epoch 92/100\n",
      "1562/1562 [==============================] - 21s 13ms/step - loss: 0.4066 - accuracy: 0.8759 - val_loss: 0.4627 - val_accuracy: 0.8527\n",
      "Epoch 93/100\n",
      "1562/1562 [==============================] - 21s 13ms/step - loss: 0.4040 - accuracy: 0.8763 - val_loss: 0.4448 - val_accuracy: 0.8713\n",
      "Epoch 94/100\n",
      "1562/1562 [==============================] - 21s 13ms/step - loss: 0.4036 - accuracy: 0.8771 - val_loss: 0.4168 - val_accuracy: 0.8767\n",
      "Epoch 95/100\n",
      "1562/1562 [==============================] - 21s 13ms/step - loss: 0.3999 - accuracy: 0.8775 - val_loss: 0.4107 - val_accuracy: 0.8800\n",
      "Epoch 96/100\n",
      "1562/1562 [==============================] - 21s 13ms/step - loss: 0.3996 - accuracy: 0.8800 - val_loss: 0.4376 - val_accuracy: 0.8660\n",
      "Epoch 97/100\n",
      "1562/1562 [==============================] - 21s 13ms/step - loss: 0.4003 - accuracy: 0.8775 - val_loss: 0.4342 - val_accuracy: 0.8747\n",
      "Epoch 98/100\n",
      "1562/1562 [==============================] - 21s 13ms/step - loss: 0.4017 - accuracy: 0.8764 - val_loss: 0.4099 - val_accuracy: 0.8767\n",
      "Epoch 99/100\n",
      "1562/1562 [==============================] - 21s 13ms/step - loss: 0.3910 - accuracy: 0.8805 - val_loss: 0.4175 - val_accuracy: 0.8767\n",
      "Epoch 100/100\n",
      "1562/1562 [==============================] - 21s 13ms/step - loss: 0.3940 - accuracy: 0.8795 - val_loss: 0.4249 - val_accuracy: 0.8767\n",
      "110/110 [==============================] - 1s 7ms/step - loss: 0.4572 - accuracy: 0.8691\n",
      "test set loss :  0.45718079805374146\n",
      "test set accuracy : 86.91428303718567\n"
     ]
    },
    {
     "data": {
      "image/png": "[encoded data removed]",
      "text/plain": [
       "<Figure size 432x288 with 1 Axes>"
      ]
     },
     "metadata": {
      "needs_background": "light"
     },
     "output_type": "display_data"
    },
    {
     "data": {
      "image/png": "[encoded data removed]",
      "text/plain": [
       "<Figure size 432x288 with 1 Axes>"
      ]
     },
     "metadata": {
      "needs_background": "light"
     },
     "output_type": "display_data"
    }
   ],
   "source": [
    "# define a CNN model:\n",
    "weight_decay = 1e-4\n",
    "model = Sequential([\n",
    "                    Conv2D(32, (3, 3), activation='relu', padding='same',kernel_regularizer=tf.keras.regularizers.l2(weight_decay), input_shape=(32, 32, 3)),\n",
    "                    BatchNormalization(),\n",
    "                    Conv2D(32, (3, 3), activation='relu',kernel_regularizer=tf.keras.regularizers.l2(weight_decay), padding='same'),\n",
    "                    BatchNormalization(),\n",
    "                    MaxPooling2D((2, 2)),\n",
    "                    Dropout(0.2),\n",
    "                    Conv2D(64, (3, 3), activation='relu',kernel_regularizer=tf.keras.regularizers.l2(weight_decay), padding='same'),\n",
    "                    BatchNormalization(),\n",
    "                    Conv2D(64, (3, 3), activation='relu',kernel_regularizer=tf.keras.regularizers.l2(weight_decay), padding='same'),\n",
    "                    BatchNormalization(),\n",
    "                    MaxPooling2D((2, 2)),\n",
    "                    Dropout(0.3),\n",
    "                    Conv2D(128, (3, 3), activation='relu',kernel_regularizer=tf.keras.regularizers.l2(weight_decay), padding='same'),\n",
    "                    BatchNormalization(),\n",
    "                    Conv2D(128, (3, 3), activation='relu',kernel_regularizer=tf.keras.regularizers.l2(weight_decay), padding='same'),\n",
    "                    BatchNormalization(),\n",
    "                    MaxPooling2D((2, 2)),\n",
    "                    Dropout(0.3),\n",
    "                    Flatten(),\n",
    "                    Dense(128, activation='relu'),\n",
    "                    Dense(10, activation='softmax')                    \n",
    "])\n",
    "\n",
    "opt =    tf.keras.optimizers.SGD(learning_rate=0.001, momentum=0.9)\n",
    "model.compile(optimizer=opt, loss='categorical_crossentropy', metrics=['accuracy'])\n",
    "\n",
    "results(model)"
   ]
  },
  {
   "cell_type": "code",
   "execution_count": 10,
   "metadata": {},
   "outputs": [],
   "source": [
    "# saving the model\n",
    "model.save(\"model.hdf5\")"
   ]
  },
  {
   "cell_type": "code",
   "execution_count": null,
   "metadata": {},
   "outputs": [],
   "source": []
  }
 ],
 "metadata": {
  "interpreter": {
   "hash": "86e6b2add717718f5bf21852a76e7c9d30624633e42f1fcdc3d858e24c77d439"
  },
  "kernelspec": {
   "display_name": "Python 3.9.5 64-bit",
   "language": "python",
   "name": "python3"
  },
  "language_info": {
   "codemirror_mode": {
    "name": "ipython",
    "version": 3
   },
   "file_extension": ".py",
   "mimetype": "text/x-python",
   "name": "python",
   "nbconvert_exporter": "python",
   "pygments_lexer": "ipython3",
   "version": "3.9.5"
  },
  "orig_nbformat": 4
 },
 "nbformat": 4,
 "nbformat_minor": 2
}
